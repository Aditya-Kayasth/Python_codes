{
  "nbformat": 4,
  "nbformat_minor": 0,
  "metadata": {
    "colab": {
      "provenance": [],
      "include_colab_link": true
    },
    "kernelspec": {
      "name": "python3",
      "display_name": "Python 3"
    }
  },
  "cells": [
    {
      "cell_type": "markdown",
      "metadata": {
        "id": "view-in-github",
        "colab_type": "text"
      },
      "source": [
        "<a href=\"https://colab.research.google.com/github/Aditya-Kayasth/Python_codes/blob/main/Payroll_System_Using_OOP.ipynb\" target=\"_parent\"><img src=\"https://colab.research.google.com/assets/colab-badge.svg\" alt=\"Open In Colab\"/></a>"
      ]
    },
    {
      "cell_type": "markdown",
      "metadata": {
        "id": "64Zy490qzVsZ"
      },
      "source": [
        "### Context\n",
        "\n",
        "**Payroll System** of any organisation calculates the amount the organisation owe to its employees based on various factors such as the time and the number of days they worked, their hourly wages or commission rate, and whether they took leave during the pay period. The system determines the gross pay by evaluating taxes and other deductions. On the payroll date, the system provides the employees with the details of payroll deposits in the form of a **pay slip**."
      ]
    },
    {
      "cell_type": "markdown",
      "metadata": {
        "id": "dSRd3do_m_M4"
      },
      "source": [
        "---"
      ]
    },
    {
      "cell_type": "markdown",
      "metadata": {
        "id": "2i36Yv3-MPY5"
      },
      "source": [
        "### Problem Statement\n",
        "\n",
        "\n",
        "ABC Finance company hired you as a software developer. Your first assignment is to create a simple  **Payroll System** for the company to perform payroll calculations based on an employee inheritance hierarchy that meets the following requirements:\n",
        "\n",
        "The company has **Salaried employees** and they are paid a fixed salary regardless of the number of hours they work. Their salary is calculated by adding the basic salary, TA (Travelling allowance), DA (Dearness allowance) and HRA (House rent allowance).\n",
        "\n",
        "To make the system reusable and extensible, the system must be constructed using **object-oriented** methodology.\n",
        "  "
      ]
    },
    {
      "cell_type": "markdown",
      "metadata": {
        "id": "YUVCq0gkq1BZ"
      },
      "source": [
        "---"
      ]
    },
    {
      "cell_type": "markdown",
      "metadata": {
        "id": "9Pvr4e9ynCCj"
      },
      "source": [
        "---"
      ]
    },
    {
      "cell_type": "markdown",
      "metadata": {
        "id": "toeLx5LJpIV-"
      },
      "source": [
        "### Things To Do\n",
        "\n",
        "The payroll system must be able to perform the following tasks:\n",
        "\n",
        " - Allow the user to input employee details such as employee ID, employee name and social security number.\n",
        " - Reject duplicate employee ID and prompt the user to enter a unique employee ID for every new employee.\n",
        " - Store the employee records temporarily in a collection.\n",
        " - Display the information of all the employees on the screen.\n",
        " - Update different employees allowances.\n",
        " - Calculate monthly earnings of the employee based on their type.\n",
        "\n"
      ]
    },
    {
      "cell_type": "markdown",
      "metadata": {
        "id": "seBJxEBPq3PV"
      },
      "source": [
        "---"
      ]
    },
    {
      "cell_type": "markdown",
      "metadata": {
        "id": "j5RcICzZlJeZ"
      },
      "source": [
        "### 1. Create a Parent Class `Employee`.\n",
        "\n",
        "\n",
        "1. Create a parent class `Employee`. The constructor of this class must initialise the following private instance variables:\n",
        "\n",
        "  - `self.__empid = empid` : Employee ID\n",
        "  -  `self.__empname = empname` : Employee Name\n",
        "  - `self.__ssn = ssn` : Social Security Number\n",
        "\n",
        "2. Also, create an instance variable `income` and initialise it to `None`.\n",
        "\n",
        "3. Add getter and setter functions for `empid`, `empname` and `ssn`. Create getter function for `income`.\n",
        "\n",
        "3. Create an empty function `calculate_income()` which will be used or overriden in child classes to calculate the value of `income` variable based on the type of employee.\n",
        "\n",
        "4. Also, add a `__repr__()` function to print all the details of an employee including their calculated income.\n"
      ]
    },
    {
      "cell_type": "code",
      "metadata": {
        "id": "g0LB4jijVd3l"
      },
      "source": [
        "# Parent class Employee\n",
        "class Employee:\n",
        "    def __init__(self, empid, empname, ssn):\n",
        "        # Initialize employee ID, name, social security number, and income\n",
        "        self.__empid, self.__empname, self.__ssn, self.income = empid, empname, ssn, None\n",
        "\n",
        "    # Getter for employee ID\n",
        "    def get_empid(self):\n",
        "        return self.__empid\n",
        "\n",
        "    # Getter for employee name\n",
        "    def get_empname(self):\n",
        "        return self.__empname\n",
        "\n",
        "    # Getter for social security number\n",
        "    def get_ssn(self):\n",
        "        return self.__ssn\n",
        "\n",
        "    # Getter for income\n",
        "    def get_income(self):\n",
        "        return self.income\n",
        "\n",
        "    # Setter for employee name\n",
        "    def set_empname(self, newname):\n",
        "        self.__empname = newname\n",
        "\n",
        "    # Method to be overridden by subclasses to calculate income\n",
        "    def calculate_income(self):\n",
        "        pass\n",
        "\n",
        "    # Representation of employee details\n",
        "    def __repr__(self):\n",
        "        return f\"\"\"\n",
        "        ----------------------------------------\n",
        "        Employee Details\n",
        "        ----------------------------------------\n",
        "        ID                   : {self.__empid}\n",
        "        Name                 : {self.__empname}\n",
        "        Social Security No.  : {self.__ssn}\n",
        "        Income               : {self.income}\n",
        "        ----------------------------------------\n",
        "        \"\"\""
      ],
      "execution_count": null,
      "outputs": []
    },
    {
      "cell_type": "markdown",
      "metadata": {
        "id": "ZdXklYTDrKFS"
      },
      "source": [
        "---"
      ]
    },
    {
      "cell_type": "markdown",
      "metadata": {
        "id": "WCmI9RJ5nhkA"
      },
      "source": [
        "###2. Create a Child Class `SalariedEmployee`.\n",
        "\n",
        "1. Create a class `SalariedEmployee` that inherits from the parent class `Employee`. In addition to the properties of the parent class, the constructor of this class must initialise the following instance variables:\n",
        "\n",
        "  - `ta`: Travelling allowance. Initialise it to any value between 500 and 1000.\n",
        "\n",
        "  - `da`: Dearness allowance. Initialise it to any value between 500 and 1000..\n",
        "\n",
        "  - `hra`: House rent allowance. Initialise it to any value between 500 and 1000.\n",
        "\n",
        "2. Create getter and setter functions for each instance variable.\n",
        "\n",
        "3. **Override** the function `calculate_income()` of the parent class `Employee`. Inside this function, ask the user to enter the basic salary and store it in the `basic` variable. Calculate the value of `income` variable in the following way:\n",
        "```\n",
        "income = basic + ta + da + hra\n",
        "```\n",
        "Return this calculated income.\n"
      ]
    },
    {
      "cell_type": "code",
      "metadata": {
        "id": "uV_EvB_kYm3Y"
      },
      "source": [
        "# Child class SalariedEmployee that inherits from Employee\n",
        "class SalariedEmployee(Employee):\n",
        "    def __init__(self, empid, empname, ssn):\n",
        "        # Call the parent class constructor\n",
        "        super().__init__(empid, empname, ssn)\n",
        "        # Initialize allowances\n",
        "        self.__ta = 600   # Travelling allowance\n",
        "        self.__da = 1000  # Dearness allowance\n",
        "        self.__hra = 1000 # House rent allowance\n",
        "\n",
        "    # Getter for travelling allowance\n",
        "    def get_ta(self):\n",
        "        return self.__ta\n",
        "\n",
        "    # Getter for house rent allowance\n",
        "    def get_hra(self):\n",
        "        return self.__hra\n",
        "\n",
        "    # Getter for dearness allowance\n",
        "    def get_da(self):\n",
        "        return self.__da\n",
        "\n",
        "    # Setter for travelling allowance\n",
        "    def set_ta(self, new_ta):\n",
        "        self.__ta = new_ta\n",
        "\n",
        "    # Setter for dearness allowance\n",
        "    def set_da(self, new_da):\n",
        "        self.__da = new_da\n",
        "\n",
        "    # Setter for house rent allowance\n",
        "    def set_hra(self, new_hra):\n",
        "        self.__hra = new_hra\n",
        "\n",
        "    # Override the calculate_income method to calculate the income for salaried employees\n",
        "    def calculate_income(self):\n",
        "        while True:\n",
        "            try:\n",
        "                basic = int(input(\"Enter the basic salary: \"))\n",
        "                break\n",
        "            except ValueError:\n",
        "                print(\"Invalid input. Please enter a valid number for the basic salary.\")\n",
        "        # Calculate total income\n",
        "        self.income = basic + self.__ta + self.__da + self.__hra\n",
        "        return self.income\n"
      ],
      "execution_count": null,
      "outputs": []
    },
    {
      "cell_type": "markdown",
      "metadata": {
        "id": "knB5aLw3rMQ6"
      },
      "source": [
        "---"
      ]
    },
    {
      "cell_type": "markdown",
      "metadata": {
        "id": "mYG2rs2PpnvV"
      },
      "source": [
        "### 3. Create a Class `Management`\n",
        "\n",
        "Create a class `Management`. We will use this class to store employee records. Inside this class, perform the following tasks:\n",
        "\n",
        "- **Step 1**: Create an empty list `emp_id_list` which will hold only employee ID of the existing employees. Also, create another empty list `emp_records` which will hold all the employee records.\n",
        "\n",
        "- **Step 2**: Create a function `existing_employee()` which will take `emp_id` as an input and will check whether this `emp_id` already exists in the list `emp_id_list`. If yes, then display a message `This employee ID already exists`. If it does not exists then add the new `emp_id` to the `emp_id_list`.\n",
        "\n",
        " ```\n",
        " def existing_employee(self,emp_id):\n",
        "    for i in Management.emp_id_list:\n",
        "      if i == emp_id:\n",
        "        print(\"This employee ID already exists\")\n",
        "        \n",
        "        return 0\n",
        "    Management.emp_id_list.append(emp_id)\n",
        "    return 1\n",
        " ```\n",
        "\n",
        "- **Step 3**: Create a class method `add_records()` which accepts the current `employee` object as a parameter. Inside this method:\n",
        "  - Create an empty dictionary.\n",
        "  - Store all the properties of `employee` object i.e. Employee ID, Employee Name, SSN and their income in this dictionary in the form of key-value pairs.\n",
        "  - Append this dictionary to the list `emp_records`.\n",
        "  \n",
        "  In this way, we will add the record of every new employee to the `emp_records` list.\n",
        "\n",
        "- **Step 4**:  Create a class method `display_records()` which will display the records of all employees stored in `emp_records` list.\n",
        "\n",
        "\n",
        "\n"
      ]
    },
    {
      "cell_type": "code",
      "metadata": {
        "id": "CqeehS9Fpstt"
      },
      "source": [
        "# Management class to manage employee records\n",
        "class Management:\n",
        "    emp_id_list = []  # List to store employee IDs\n",
        "    emp_records = []  # List to store employee records\n",
        "\n",
        "    # Check if the employee ID already exists\n",
        "    def existing_employee(self, emp_id):\n",
        "        for i in Management.emp_id_list:\n",
        "            if i == emp_id:\n",
        "                print(\"This employee ID already exists\")\n",
        "                return 0\n",
        "        Management.emp_id_list.append(emp_id)\n",
        "        return 1\n",
        "\n",
        "    # Add employee record to emp_records\n",
        "    @classmethod\n",
        "    def add_records(cls, employee):\n",
        "        emp = {\n",
        "            'Id': employee.get_empid(),\n",
        "            'Name': employee.get_empname(),\n",
        "            'SSN': employee.get_ssn(),\n",
        "            'Salary': employee.income\n",
        "        }\n",
        "        Management.emp_records.append(emp)\n",
        "\n",
        "    # Display all employee records\n",
        "    @classmethod\n",
        "    def display_records(cls):\n",
        "        for i in Management.emp_records:\n",
        "            for j in i:\n",
        "                print(f\"{j: <10}: {i[j]}\")\n",
        "            print(\"------------------------------------\")\n",
        "        print(\"***************************************\")\n"
      ],
      "execution_count": null,
      "outputs": []
    },
    {
      "cell_type": "markdown",
      "metadata": {
        "id": "qzgMfj_cptoD"
      },
      "source": [
        "---"
      ]
    },
    {
      "cell_type": "markdown",
      "metadata": {
        "id": "BDJL4PuAhU58"
      },
      "source": [
        "### 4. Creating Objects and Calling the Functions\n",
        "\n",
        "Please execute the below code cell to create the Objects and call the Functions."
      ]
    },
    {
      "cell_type": "code",
      "metadata": {
        "id": "5n0gNdEokxY-",
        "colab": {
          "base_uri": "https://localhost:8080/"
        },
        "outputId": "7e63e4c3-76e0-4b82-d77c-9a935cf0c3ef"
      },
      "source": [
        "# Infinite while loop to add employee records\n",
        "while True:\n",
        "    id = input(\"Enter employee ID: \")\n",
        "    manage = Management()\n",
        "\n",
        "    # Ensure the employee ID is unique\n",
        "    while manage.existing_employee(id) == 0:\n",
        "        print(\"Please enter a new employee id\")\n",
        "        id = input(\"Enter employee ID: \")\n",
        "\n",
        "    # Input employee details\n",
        "    name = input(\"Enter employee name: \")\n",
        "    ssn = input(\"Enter social security number: \")\n",
        "\n",
        "    # Create a new SalariedEmployee object\n",
        "    emp1 = SalariedEmployee(id, name, ssn)\n",
        "\n",
        "    # Allow the user to update allowances if needed\n",
        "    while True:\n",
        "        print(f\"\\nTravelling allowance is {emp1.get_ta()}\\nDearness allowance is {emp1.get_da()}\\nHouse Rent allowance is {emp1.get_hra()}\\n\")\n",
        "        print(\"-----Enter your choice------\")\n",
        "        user_choice = input(\"Enter 1 for updating Travelling allowance(TA)\\nEnter 2 for updating Dearness allowance(DA)\\nEnter 3 for updating House Rent allowance(HRA)\\nEnter 4 to skip updating: \")\n",
        "\n",
        "        # Ensure a valid choice is entered\n",
        "        while user_choice not in ['1', '2', '3', '4']:\n",
        "            print(\"-----Please enter a valid option------\")\n",
        "            user_choice = input(\"Enter 1 for updating Travelling allowance(TA)\\nEnter 2 for updating Dearness allowance(DA)\\nEnter 3 for updating House Rent allowance(HRA)\\nEnter 4 to skip updating: \")\n",
        "\n",
        "        # Update the allowances based on user choice\n",
        "        if user_choice == '1':\n",
        "            new_ta = int(input(\"\\nEnter the new Travelling Allowance: \"))\n",
        "            emp1.set_ta(new_ta)\n",
        "            print(f\"Travelling allowance is {emp1.get_ta()}\\n\")\n",
        "        elif user_choice == '2':\n",
        "            new_da = int(input(\"Enter the new Dearness Allowance: \"))\n",
        "            emp1.set_da(new_da)\n",
        "            print(f\"Dearness allowance is {emp1.get_da()}\\n\")\n",
        "        elif user_choice == '3':\n",
        "            new_hra = int(input(\"Enter the new House Rent allowance: \"))\n",
        "            emp1.set_hra(new_hra)\n",
        "            print(f\"House Rent allowance is {emp1.get_hra()}\\n\")\n",
        "        else:\n",
        "            break\n",
        "\n",
        "        # Ask user if they want to continue updating allowances\n",
        "        print(\"----------------------------------------\")\n",
        "        choice = int(input(\"Do you wish to continue updating TA, DA or HRA?\\nEnter 1 for YES\\nEnter 2 for NO\\n\"))\n",
        "\n",
        "        if choice == 2:\n",
        "            break\n",
        "\n",
        "    # Calculate the employee's income\n",
        "    print(f\"\\n--------Calculating Income----------------\")\n",
        "    emp1.calculate_income()\n",
        "\n",
        "    # Display the employee's details\n",
        "    print(\"\\n--------Employee Details----------------\")\n",
        "    print(emp1)\n",
        "    print(\"\\n----------------------------------------\")\n",
        "\n",
        "    # Add the employee record to the management system\n",
        "    Management.add_records(emp1)\n",
        "\n",
        "    # Ask user if they want to view all records\n",
        "    choice_display = int(input(\"\\nView All Records?\\nEnter 1 for YES\\nEnter 2 for NO\\n\"))\n",
        "    if choice_display == 1:\n",
        "        print(\"Employee Records\")\n",
        "        print(\"\\n----------------------------------------\")\n",
        "        Management.display_records()\n",
        "\n",
        "    # Ask user if they want to add another employee\n",
        "    choice = int(input(\"\\nDo you wish to continue?\\nEnter 1 for YES\\nEnter 2 for NO\\n\"))\n",
        "\n",
        "    if choice == 2:\n",
        "        print(\"Thank you\")\n",
        "        break"
      ],
      "execution_count": null,
      "outputs": [
        {
          "output_type": "stream",
          "name": "stdout",
          "text": [
            "Enter employee ID: 34123\n",
            "Enter employee name: Adi_Kayasth\n",
            "Enter social security number: 5055\n",
            "\n",
            "Travelling allowance is 600\n",
            "Dearness allowance is 1000\n",
            "House Rent allowance is 1000\n",
            "\n",
            "-----Enter your choice------\n",
            "Enter 1 for updating Travelling allowance(TA)\n",
            "Enter 2 for updating Dearness allowance(DA)\n",
            "Enter 3 for updating House Rent allowance(HRA)\n",
            "Enter 4 to skip updating: 3\n",
            "Enter the new House Rent allowance: 103000\n",
            "House Rent allowance is 103000\n",
            "\n",
            "----------------------------------------\n",
            "Do you wish to continue updating TA, DA or HRA?\n",
            "Enter 1 for YES\n",
            "Enter 2 for NO\n",
            "1\n",
            "\n",
            "Travelling allowance is 600\n",
            "Dearness allowance is 1000\n",
            "House Rent allowance is 103000\n",
            "\n",
            "-----Enter your choice------\n",
            "Enter 1 for updating Travelling allowance(TA)\n",
            "Enter 2 for updating Dearness allowance(DA)\n",
            "Enter 3 for updating House Rent allowance(HRA)\n",
            "Enter 4 to skip updating: 1\n",
            "\n",
            "Enter the new Travelling Allowance: 1000\n",
            "Travelling allowance is 1000\n",
            "\n",
            "----------------------------------------\n",
            "Do you wish to continue updating TA, DA or HRA?\n",
            "Enter 1 for YES\n",
            "Enter 2 for NO\n",
            "2\n",
            "\n",
            "--------Calculating Income----------------\n",
            "Enter the basic salary: 1000000\n",
            "\n",
            "--------Employee Details----------------\n",
            "\n",
            "        ----------------------------------------\n",
            "        Employee Details\n",
            "        ----------------------------------------\n",
            "        ID                   : 34123\n",
            "        Name                 : Adi_Kayasth\n",
            "        Social Security No.  : 5055\n",
            "        Income               : 1105000\n",
            "        ----------------------------------------\n",
            "        \n",
            "\n",
            "----------------------------------------\n",
            "\n",
            "View All Records?\n",
            "Enter 1 for YES\n",
            "Enter 2 for NO\n",
            "2\n",
            "\n",
            "Do you wish to continue?\n",
            "Enter 1 for YES\n",
            "Enter 2 for NO\n",
            "1\n",
            "Enter employee ID: 34123\n",
            "This employee ID already exists\n",
            "Please enter a new employee id\n",
            "Enter employee ID: 1\n",
            "Enter employee name: Ram\n",
            "Enter social security number: 420\n",
            "\n",
            "Travelling allowance is 600\n",
            "Dearness allowance is 1000\n",
            "House Rent allowance is 1000\n",
            "\n",
            "-----Enter your choice------\n",
            "Enter 1 for updating Travelling allowance(TA)\n",
            "Enter 2 for updating Dearness allowance(DA)\n",
            "Enter 3 for updating House Rent allowance(HRA)\n",
            "Enter 4 to skip updating: 4\n",
            "\n",
            "--------Calculating Income----------------\n",
            "Enter the basic salary: 121212\n",
            "\n",
            "--------Employee Details----------------\n",
            "\n",
            "        ----------------------------------------\n",
            "        Employee Details\n",
            "        ----------------------------------------\n",
            "        ID                   : 1\n",
            "        Name                 : Ram\n",
            "        Social Security No.  : 420\n",
            "        Income               : 123812\n",
            "        ----------------------------------------\n",
            "        \n",
            "\n",
            "----------------------------------------\n",
            "\n",
            "View All Records?\n",
            "Enter 1 for YES\n",
            "Enter 2 for NO\n",
            "2\n",
            "\n",
            "Do you wish to continue?\n",
            "Enter 1 for YES\n",
            "Enter 2 for NO\n",
            "2\n",
            "Thank you\n"
          ]
        }
      ]
    },
    {
      "cell_type": "markdown",
      "metadata": {
        "id": "gJ49xrTorOiU"
      },
      "source": [
        "---"
      ]
    }
  ]
}